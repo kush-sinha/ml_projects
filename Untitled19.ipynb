{
  "cells": [
    {
      "cell_type": "code",
      "cell_title": "Import Libraries",
      "source": [
        "import pandas as pd",
        "import numpy as np",
        "import matplotlib.pyplot as plt",
        "import seaborn as sns",
        "",
        "from sklearn.model_selection import train_test_split",
        "from sklearn.preprocessing import StandardScaler",
        "from sklearn.linear_model import LogisticRegression",
        "from sklearn.tree import DecisionTreeClassifier",
        "from sklearn.svm import SVC",
        "from sklearn.metrics import classification_report, confusion_matrix"
      ]
    },
    {
      "cell_type": "code",
      "cell_title": "Load Dataset",
      "source": [
        "df = pd.read_csv('Data_file - data_file (2).csv')",
        "print(df.head())"
      ]
    },
    {
      "cell_type": "code",
      "cell_title": "Exploratory Data Analysis",
      "source": [
        "print(df.info())",
        "print(df.describe())",
        "sns.countplot(x='disease', data=df)",
        "plt.title(\"Disease Distribution\")",
        "plt.show()"
      ]
    },
    {
      "cell_type": "code",
      "cell_title": "Preprocessing",
      "source": [
        "df = df.dropna()",
        "df = df.drop(columns=['date', 'country', 'occupation'])",
        "# Optional: Encode categorical variables",
        "# df['gender'] = df['gender'].map({'male': 0, 'female': 1})"
      ]
    },
    {
      "cell_type": "code",
      "cell_title": "Feature Selection",
      "source": [
        "X = df.drop('disease', axis=1)",
        "y = df['disease']"
      ]
    },
    {
      "cell_type": "code",
      "cell_title": "Train-Test Split",
      "source": [
        "X_train, X_test, y_train, y_test = train_test_split(",
        "    X, y, test_size=0.2, random_state=42)",
        ""
      ]
    },
    {
      "cell_type": "code",
      "cell_title": "Feature Scaling",
      "source": [
        "scaler = StandardScaler()",
        "X_train = scaler.fit_transform(X_train)",
        "X_test = scaler.transform(X_test)"
      ]
    },
    {
      "cell_type": "code",
      "cell_title": "Model Training - Logistic Regression",
      "source": [
        "model = LogisticRegression()",
        "model.fit(X_train, y_train)"
      ]
    },
    {
      "cell_type": "code",
      "cell_title": "Model Evaluation",
      "source": [
        "y_pred = model.predict(X_test)",
        "print(\"Classification Report:\\n\", classification_report(y_test, y_pred))",
        "sns.heatmap(confusion_matrix(y_test, y_pred), annot=True, fmt='d', cmap='Blues')",
        "plt.title(\"Confusion Matrix\")",
        "plt.show()"
      ]
    }
  ]
}

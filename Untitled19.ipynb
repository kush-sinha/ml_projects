{
  "steps": [
    {
      "step": "1. Import Libraries",
      "code": [
        "import pandas as pd",
        "import numpy as np",
        "import matplotlib.pyplot as plt",
        "import seaborn as sns",
        "from sklearn.model_selection import train_test_split",
        "from sklearn.preprocessing import StandardScaler",
        "from sklearn.linear_model import LogisticRegression",
        "from sklearn.tree import DecisionTreeClassifier",
        "from sklearn.svm import SVC",
        "from sklearn.metrics import classification_report, confusion_matrix"
      ]
    },
    {
      "step": "2. Load Dataset",
      "code": [
        "df = pd.read_csv('Data_file - data_file (2).csv')",
        "print(df.head())"
      ]
    },
    {
      "step": "3. Exploratory Data Analysis",
      "code": [
        "print(df.info())",
        "print(df.describe())",
        "sns.countplot(x='disease', data=df)",
        "plt.title('Disease Distribution')",
        "plt.show()"
      ]
    },
    {
      "step": "4. Preprocessing",
      "code": [
        "df = df.dropna()",
        "df = df.drop(columns=['date', 'country', 'occupation'])"
      ]
    },
    {
      "step": "5. Feature Selection",
      "code": [
        "X = df.drop('disease', axis=1)",
        "y = df['disease']"
      ]
    },
    {
      "step": "6. Train-Test Split",
      "code": [
        "X_train, X_test, y_train, y_test = train_test_split(X, y, test_size=0.2, random_state=42)"
      ]
    },
    {
      "step": "7. Feature Scaling",
      "code": [
        "scaler = StandardScaler()",
        "X_train = scaler.fit_transform(X_train)",
        "X_test = scaler.transform(X_test)"
      ]
    },
    {
      "step": "8. Model Training",
      "code": [
        "model = LogisticRegression()",
        "model.fit(X_train, y_train)"
      ]
    },
    {
      "step": "9. Evaluation",
      "code": [
        "y_pred = model.predict(X_test)",
        "print('Classification Report:\\n', classification_report(y_test, y_pred))",
        "sns.heatmap(confusion_matrix(y_test, y_pred), annot=True, fmt='d')",
        "plt.title('Confusion Matrix')",
        "plt.show()"
      ]
    }
  ],
  "classification_report": {
    "class_0": {
      "precision": 0.70,
      "recall": 0.77,
      "f1_score": 0.73,
      "support": 6988
    },
    "class_1": {
      "precision": 0.75,
      "recall": 0.68,
      "f1_score": 0.71,
      "support": 7012
    },
    "accuracy": 0.72,
    "macro_avg": {
      "precision": 0.73,
      "recall": 0.72,
      "f1_score": 0.72
    },
    "weighted_avg": {
      "precision": 0.73,
      "recall": 0.72,
      "f1_score": 0.72
    }
  }
}

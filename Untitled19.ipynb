# 1. Import Libraries
import pandas as pd
import numpy as np
import matplotlib.pyplot as plt
import seaborn as sns

from sklearn.model_selection import train_test_split
from sklearn.preprocessing import StandardScaler
from sklearn.linear_model import LogisticRegression
from sklearn.tree import DecisionTreeClassifier
from sklearn.svm import SVC
from sklearn.metrics import classification_report, confusion_matrix

# 2. Load Dataset
df = pd.read_csv('Data_file - data_file (2).csv')  # Adjust path as needed
print(df.head())

# 3. Exploratory Data Analysis
print(df.info())
print(df.describe())
sns.countplot(x='disease', data=df)
plt.title("Disease Distribution")
plt.show()

# 4. Preprocessing
# Handle missing values
df = df.dropna()
df = df.drop(columns=['date'])
df = df.drop(columns=['country'])
df = df.drop(columns=['occupation'])

# Optional: Encode categorical variables if any
# df['gender'] = df['gender'].map({'male': 0, 'female': 1})

# 5. Feature Selection
X = df.drop('disease', axis=1)
y = df['disease']


# 6. Train-Test Split
X_train, X_test, y_train, y_test = train_test_split(X, y, test_size=0.2, random_state=42)


# 7. Feature Scaling
scaler = StandardScaler()
X_train = scaler.fit_transform(X_train)
X_test = scaler.transform(X_test)

# 8. Model Training (Logistic Regression as baseline)
model = LogisticRegression()
model.fit(X_train, y_train)

# 9. Evaluation
y_pred = model.predict(X_test)
print("Classification Report:\n", classification_report(y_test, y_pred))
sns.heatmap(confusion_matrix(y_test, y_pred), annot=True, fmt='d')
plt.title("Confusion Matrix")
plt.show()

{
  "1. Import Libraries": [
    "pandas as pd",
    "numpy as np",
    "matplotlib.pyplot as plt",
    "seaborn as sns",
    "train_test_split from sklearn.model_selection",
    "StandardScaler from sklearn.preprocessing",
    "LogisticRegression, DecisionTreeClassifier, SVC from sklearn.linear_model / sklearn.tree",
    "classification_report, confusion_matrix from sklearn.metrics"
  ],
  "2. Load Dataset": {
    "read_csv": "Data_file - data_file (2).csv",
    "output": "head of dataframe"
  },
  "3. Exploratory Data Analysis": [
    "df.info()",
    "df.describe()",
    "Countplot: 'disease' column",
    "Title: 'Disease Distribution'"
  ],
  "4. Preprocessing": {
    "dropna": true,
    "drop_columns": ["date", "country", "occupation"],
    "categorical_encoding": "optional (e.g., gender mapping)"
  },
  "5. Feature Selection": {
    "features": "All columns except 'disease'",
    "target": "'disease'"
  },
  "6. Train-Test Split": {
    "test_size": 0.2,
    "random_state": 42
  },
  "7. Feature Scaling": {
    "scaler": "StandardScaler",
    "X_train_scaled": true,
    "X_test_scaled": true
  },
  "8. Model Training": {
    "model": "LogisticRegression",
    "fit": true
  },
  "9. Evaluation": {
    "predictions": "y_pred",
    "classification_report": true,
    "confusion_matrix": {
      "visualization": "heatmap",
      "annot": true,
      "fmt": "d"
    }
  }
}
